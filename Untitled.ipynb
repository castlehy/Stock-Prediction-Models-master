{
 "cells": [
  {
   "cell_type": "code",
   "execution_count": 2,
   "metadata": {},
   "outputs": [],
   "source": [
    "import numpy as np\n",
    "import pandas as pd\n",
    "import time\n",
    "import matplotlib.pyplot as plt\n",
    "import seaborn as sns\n",
    "import random\n",
    "from bayes_opt import BayesianOptimization\n",
    "from concurrent import futures\n",
    "sns.set()"
   ]
  },
  {
   "cell_type": "code",
   "execution_count": 3,
   "metadata": {},
   "outputs": [],
   "source": [
    "df = pd.read_csv('xx1z.csv')\n",
    "df.head()\n",
    "close = df.Close.tolist()"
   ]
  },
  {
   "cell_type": "code",
   "execution_count": 4,
   "metadata": {},
   "outputs": [
    {
     "data": {
      "text/plain": [
       "[2455.87600003,\n",
       " 2455.876,\n",
       " 2454.60920439,\n",
       " 2455.876,\n",
       " 2455.876,\n",
       " 2470.7,\n",
       " 2463.7,\n",
       " 2450.0,\n",
       " 2463.69999999,\n",
       " 2447.88,\n",
       " 2443.0,\n",
       " 2443.0,\n",
       " 2443.0,\n",
       " 2442.258,\n",
       " 2450.0,\n",
       " 2450.0,\n",
       " 2440.0,\n",
       " 2440.00000004,\n",
       " 2450.0,\n",
       " 2440.00000006,\n",
       " 2451.00000001,\n",
       " 2470.7,\n",
       " 2465.7,\n",
       " 2465.0,\n",
       " 2440.00200002,\n",
       " 2464.999,\n",
       " 2440.0,\n",
       " 2464.999,\n",
       " 2464.999,\n",
       " 2484.99,\n",
       " 2483.99,\n",
       " 2475.0,\n",
       " 2466.00000001,\n",
       " 2445.10200003,\n",
       " 2445.19300001,\n",
       " 2449.12500001,\n",
       " 2470.99999999,\n",
       " 2450.0,\n",
       " 2441.09917335,\n",
       " 2441.1020000000003,\n",
       " 2433.0]"
      ]
     },
     "execution_count": 4,
     "metadata": {},
     "output_type": "execute_result"
    }
   ],
   "source": [
    "close"
   ]
  },
  {
   "cell_type": "code",
   "execution_count": 7,
   "metadata": {},
   "outputs": [],
   "source": [
    "closep = [((close[i-1])-close[i])/close[i] in range(1,len(close))]"
   ]
  },
  {
   "cell_type": "code",
   "execution_count": null,
   "metadata": {},
   "outputs": [],
   "source": [
    "for i in range(len(close)) :\n",
    "    while"
   ]
  },
  {
   "cell_type": "code",
   "execution_count": 13,
   "metadata": {},
   "outputs": [
    {
     "data": {
      "text/plain": [
       "[1.2215471277043318e-11,\n",
       " 0.0005160885112525218,\n",
       " -0.0005158223012889788,\n",
       " 0.0,\n",
       " -0.005999919051280857,\n",
       " 0.002841255022932987,\n",
       " 0.005591836734693803,\n",
       " -0.005560741969418165,\n",
       " 0.006462735097308616,\n",
       " 0.001997544003274707,\n",
       " 0.0,\n",
       " 0.0,\n",
       " 0.0003038172052257334,\n",
       " -0.0031600000000000772,\n",
       " 0.0,\n",
       " 0.004098360655737705,\n",
       " -1.6393455627323167e-11,\n",
       " -0.004081632636734681,\n",
       " 0.004098360631046836,\n",
       " -0.004487964075869113,\n",
       " -0.007973448816124955,\n",
       " 0.002027821713914913,\n",
       " 0.00028397565922913515,\n",
       " 0.010245073561331057,\n",
       " -0.010140774896865922,\n",
       " 0.010245491803278606,\n",
       " -0.010141586264335117,\n",
       " 0.0,\n",
       " -0.008044700381088048,\n",
       " 0.00040257811021783503,\n",
       " 0.003632323232323144,\n",
       " 0.0036496350324264435,\n",
       " 0.008546882698449181,\n",
       " -3.721586803157618e-05,\n",
       " -0.0016054713417991055,\n",
       " -0.008852691210072334,\n",
       " 0.008571428567346983,\n",
       " 0.003646237214436931,\n",
       " -1.1579401435562982e-06,\n",
       " 0.003330045211672962]"
      ]
     },
     "execution_count": 13,
     "metadata": {},
     "output_type": "execute_result"
    }
   ],
   "source": [
    "closep = [((close[i-1])-close[i])/close[i] for i in range(1 ,len(close))]"
   ]
  },
  {
   "cell_type": "code",
   "execution_count": 6,
   "metadata": {},
   "outputs": [],
   "source": [
    "from bokeh.io import output_notebook, show\n",
    "from bokeh.plotting import figure\n",
    "i =30\n",
    "# set up some data\n",
    "#x1 = Traning_Output1[:,]\n",
    "x2 = close\n",
    "#x3 = step_gain_runs[i]\n",
    "#x6 = testoutputM [1,:]\n",
    "#x3 = Traning_Output[1,:]\n",
    "#x4 = total_cash_runs[i]\n",
    "#y1 = range(len(x1 ))\n",
    "y2 = range(0,(len(x2 )),1)\n",
    "#y3 = range(0,len(x3 ),1)\n",
    "#y4 = range(0,len(x4 ),1)\n",
    "#y5 = range(0,len(x6 ),1)\n",
    "#y6 = range(0,len(x6 ),1)\n",
    "#sell_index1 = np.array(sell_index_runs[i])\n",
    "#buy_index1  = np.array(buy_index_runs[i])  \n",
    "#x5 = x5[5:]\n",
    "\n",
    "# create a new plot with figure\n",
    "p = figure(plot_width=1800, plot_height=920)\n",
    "\n",
    "# add both a line and circles on the same plot\n",
    "#p.line(y4, x4, line_width=2,line_color=\"firebrick\")\n",
    "p.line(y2, x2, line_width=1 ,line_color=\"red\")\n",
    "#p.line(buy_index[: ,0],buy_index[: ,1], line_width=1 , line_color=\"red\")\n",
    "#p.circle(sell_index1[: ,0],sell_index1[:,1], size=2, line_color=\"red\", fill_color=\"orange\", fill_alpha=0.5)\n",
    "#p.circle(buy_index1[: ,0],buy_index1[: , 1], size=2, line_color=\"blue\", fill_color=\"blue\", fill_alpha=0.5)\n",
    "#p.line(sell_index1[: ,0],sell_index1[:,1], line_width=1 ,line_color=\"red\")\n",
    "\n",
    "\n",
    "#p.line(y3, x3, line_width=2,line_color=\"orange\")\n",
    "\n",
    "#p.circle(y3,x3, size=10, line_color=\"navy\", fill_color=\"orange\", fill_alpha=0.5)\n",
    "\n",
    "#p.circle(x, z, fill_color=\"white\", size=8)\n",
    "\n",
    "show(p) # show the results"
   ]
  },
  {
   "cell_type": "code",
   "execution_count": null,
   "metadata": {},
   "outputs": [],
   "source": [
    " = df.Close.tolist()"
   ]
  },
  {
   "cell_type": "code",
   "execution_count": null,
   "metadata": {},
   "outputs": [],
   "source": []
  },
  {
   "cell_type": "code",
   "execution_count": null,
   "metadata": {},
   "outputs": [],
   "source": [
    "xx[-3*24*60:]"
   ]
  },
  {
   "cell_type": "code",
   "execution_count": null,
   "metadata": {},
   "outputs": [],
   "source": [
    "len(xx)"
   ]
  },
  {
   "cell_type": "code",
   "execution_count": null,
   "metadata": {},
   "outputs": [],
   "source": [
    "np.random.randint?"
   ]
  },
  {
   "cell_type": "code",
   "execution_count": null,
   "metadata": {},
   "outputs": [],
   "source": []
  },
  {
   "cell_type": "code",
   "execution_count": null,
   "metadata": {},
   "outputs": [],
   "source": [
    "price"
   ]
  },
  {
   "cell_type": "code",
   "execution_count": null,
   "metadata": {},
   "outputs": [],
   "source": [
    "price = xx[:]"
   ]
  },
  {
   "cell_type": "code",
   "execution_count": null,
   "metadata": {},
   "outputs": [],
   "source": []
  },
  {
   "cell_type": "code",
   "execution_count": null,
   "metadata": {},
   "outputs": [],
   "source": []
  },
  {
   "cell_type": "code",
   "execution_count": null,
   "metadata": {},
   "outputs": [],
   "source": [
    "env.Cash[-1]"
   ]
  },
  {
   "cell_type": "code",
   "execution_count": null,
   "metadata": {},
   "outputs": [],
   "source": [
    "total_cash"
   ]
  },
  {
   "cell_type": "code",
   "execution_count": 5,
   "metadata": {},
   "outputs": [
    {
     "name": "stdout",
     "output_type": "stream",
     "text": [
      "iteration no .0 -----------------------------------------------------------#\n",
      "int cash 100.0 final cash 151.98477856804246 gain 1.5198477856804247\n",
      "iteration no .1 -----------------------------------------------------------#\n",
      "int cash 100.0 final cash 122.5370192369704 gain 1.225370192369704\n",
      "iteration no .2 -----------------------------------------------------------#\n",
      "int cash 100.0 final cash 87.77979684830103 gain 0.8777979684830103\n",
      "iteration no .3 -----------------------------------------------------------#\n",
      "int cash 100.0 final cash 135.29369371338257 gain 1.3529369371338256\n",
      "iteration no .4 -----------------------------------------------------------#\n",
      "int cash 100.0 final cash 107.25428146006541 gain 1.0725428146006541\n",
      "iteration no .5 -----------------------------------------------------------#\n",
      "int cash 100.0 final cash 134.2802205889649 gain 1.3428022058896492\n",
      "iteration no .6 -----------------------------------------------------------#\n",
      "int cash 100.0 final cash 99.68451074396935 gain 0.9968451074396936\n",
      "iteration no .7 -----------------------------------------------------------#\n",
      "int cash 100.0 final cash 103.79299099666362 gain 1.0379299099666361\n",
      "iteration no .8 -----------------------------------------------------------#\n",
      "int cash 100.0 final cash 104.2820476832905 gain 1.042820476832905\n",
      "iteration no .9 -----------------------------------------------------------#\n",
      "int cash 100.0 final cash 100.12206360070842 gain 1.001220636007084\n"
     ]
    },
    {
     "data": {
      "text/plain": [
       "\"\\n    \\nwith futures.ThreadPoolExecutor(max_workers=8) as ex:\\n                #print('main: starting')\\n                ex.submit(x )\\n                ex.submit(x )\\n                ex.submit(x )\\n\\n\""
      ]
     },
     "execution_count": 5,
     "metadata": {},
     "output_type": "execute_result"
    }
   ],
   "source": [
    "\n",
    "\n",
    "def Try_selling() :\n",
    "    global windw        \n",
    "    global cash         \n",
    "    global coin         \n",
    "    global safty_margen \n",
    "    global fee          \n",
    "    global history      \n",
    "    global sell_index   \n",
    "    global buy_index    \n",
    "    global total_cash   \n",
    "    global Trades_number  \n",
    "    global price\n",
    "    global i\n",
    "    global Price_runs      \n",
    "    global sell_index_runs \n",
    "    global buy_index_runs  \n",
    "    global total_cash_runs \n",
    "    global step_gain_runs   \n",
    "    global step_gain   \n",
    "    global wining_steps \n",
    "    global losing_steps \n",
    "    global nutral_steps \n",
    "    global run_gain\n",
    "    wi = (24*60)*1\n",
    "    officet = np.random.randint(0 ,37900 -wi)\n",
    "    price = close[officet:(wi+officet)]\n",
    "    coin         = 50/price[0]\n",
    "    cash  = 50\n",
    "    history      = []\n",
    "    sell_index   = []\n",
    "    buy_index    = []\n",
    "    total_cash   = []\n",
    "    #-------------------------------------------#\n",
    "    #print(\"int cash \" + str(cash + coin*price[0]))\n",
    "    int_cash  = cash + coin*price[0]\n",
    "    for i in range(len(price)):\n",
    "        if i > 10 :\n",
    "            price_mean   = np.mean(price[i-windw:i])\n",
    "            price_min    = np.min(price[i-windw:i])\n",
    "            price_max    = np.max(price[i-windw:i])\n",
    "            upper_margen = (price_max-price_mean)/price_mean\n",
    "            lower_margen = (price_min-price_mean)/price_mean\n",
    "            #print(\"price  \" + str(price[i]) + \" at \"+ str(i))\n",
    "            #print(upper_margen,lower_margen,((price[i]-price_mean)/price_mean) )\n",
    "\n",
    "            if (price[i]-price_mean)/price_mean >= (upper_margen+safty_margen) and coin != 0 and ((price[i]-price_mean)/price_mean) > 2*fee  :\n",
    "                cash = cash + coin*price[i]*(1-1.5*fee)\n",
    "                coin = 0\n",
    "                history.append([cash , coin ])\n",
    "                sell_index.append([i , price[i]])\n",
    "                #print('sell at ' + str(i))\n",
    "                Trades_number += 1\n",
    "            elif ((price[i]-price_mean)/price_mean) <= (lower_margen-safty_margen) and cash != 0  and  ((price[i]-price_mean)/price_mean) < -2*fee  :    \n",
    "                coin = coin + (cash/price[i])*(1-1.5*fee)\n",
    "                cash = 0\n",
    "                history.append([cash , coin ])\n",
    "                buy_index.append([i , price[i]])\n",
    "                #print('buy at ' + str(i))\n",
    "                Trades_number += 1\n",
    "\n",
    "            else :\n",
    "               # history.append([cash , coin ]\n",
    "                pass\n",
    "            #print(\"    #-----------------------------------------------------------#\")\n",
    "        total_cash.append(cash + coin*price[i])\n",
    "        #print(\"total cash  \" +str(total_cash[-1]))\n",
    "    sell_index = np.array(sell_index)\n",
    "    buy_index  = np.array(buy_index)   \n",
    "    #-----------------------------------------------------------#\n",
    "    step_gain = []\n",
    "    wining_steps = []\n",
    "    losing_steps = []\n",
    "    nutral_steps = []\n",
    "    for zz in range (len ( total_cash)):\n",
    "      gain = total_cash[zz]/total_cash[zz-1]\n",
    "      step_gain.append(gain)\n",
    "      if gain > 1: \n",
    "        wining_steps.append(gain)\n",
    "      elif gain < 1 :\n",
    "        losing_steps.append(gain)\n",
    "      else :\n",
    "        nutral_steps.append(gain)\n",
    "    wining_steps_acc.append(wining_steps)\n",
    "    losing_steps_acc.append(losing_steps)\n",
    "    cash_per_run.append(total_cash[-1])\n",
    "    step_per_run_num.append([len(wining_steps), len(losing_steps) ,len(nutral_steps)])\n",
    "    step_per_run_rtio.append([len(wining_steps)/len(total_cash), len(losing_steps)/len(total_cash) ,len(nutral_steps)/len(total_cash)])\n",
    "    step_per_run_rate.append([100*(np.mean(wining_steps[:]) -1 ), 100*(1-np.mean(losing_steps[1:])) ])\n",
    "    run_gain.append(total_cash[-1]/int_cash)\n",
    "    print(\"int cash \" + str(int_cash)+\" final cash \" + str(total_cash[-1]) + \" gain \" + str(run_gain[-1]))\n",
    "    \n",
    "    #----------------------------------------------------------------------#\n",
    "\n",
    "price = []#xx[:]   \n",
    "windw        = 10\n",
    "cash         = 50\n",
    "#coin         = 50/price[0]\n",
    "safty_margen = 0.000000\n",
    "fee          = 0.0025\n",
    "history      = []\n",
    "sell_index   = []\n",
    "buy_index    = []\n",
    "total_cash   = []\n",
    "Trades_number = 0    \n",
    "\n",
    "price_runs      = []\n",
    "sell_index_runs = []\n",
    "buy_index_runs  = []\n",
    "total_cash_runs = []\n",
    "step_gain_runs   = []\n",
    "    \n",
    "cash_per_run       = []\n",
    "step_per_run_num   = []\n",
    "step_per_run_rtio  = []\n",
    "step_per_run_rate  = []\n",
    "step_gain = []\n",
    "wining_steps = []\n",
    "losing_steps = []\n",
    "nutral_steps = []\n",
    "\n",
    "wining_steps_acc = []\n",
    "losing_steps_acc = []\n",
    "#Try_selling() \n",
    "ret= []\n",
    "run_gain = []\n",
    "for z in range(10):\n",
    "    print(\"iteration no .\" + str(z)+\" -----------------------------------------------------------#\")\n",
    "\n",
    "    Try_selling() \n",
    "\n",
    "    price_runs.append(price)    \n",
    "    sell_index_runs.append(sell_index)\n",
    "    buy_index_runs.append(buy_index)\n",
    "    total_cash_runs.append(total_cash)\n",
    "    step_gain_runs.append(step_gain) \n",
    "    \n",
    "    ret.append(total_cash[-1])\n",
    "    #print(\"iteration \" + str(z) + ' total cash ' + str(total_cash[-1]))\n",
    "\n",
    "'''\n",
    "    \n",
    "with futures.ThreadPoolExecutor(max_workers=8) as ex:\n",
    "                #print('main: starting')\n",
    "                ex.submit(x )\n",
    "                ex.submit(x )\n",
    "                ex.submit(x )\n",
    "\n",
    "'''\n",
    "                "
   ]
  },
  {
   "cell_type": "code",
   "execution_count": null,
   "metadata": {},
   "outputs": [],
   "source": [
    "from bokeh.io import output_notebook, show\n",
    "from bokeh.plotting import figure\n",
    "i =30\n",
    "# set up some data\n",
    "#x1 = Traning_Output1[:,]\n",
    "x2 = price_runs[i]\n",
    "x3 = step_gain_runs[i]\n",
    "#x6 = testoutputM [1,:]\n",
    "#x3 = Traning_Output[1,:]\n",
    "x4 = total_cash_runs[i]\n",
    "#y1 = range(len(x1 ))\n",
    "y2 = range(0,(len(x2 )),1)\n",
    "y3 = range(0,len(x3 ),1)\n",
    "y4 = range(0,len(x4 ),1)\n",
    "#y5 = range(0,len(x6 ),1)\n",
    "#y6 = range(0,len(x6 ),1)\n",
    "sell_index1 = np.array(sell_index_runs[i])\n",
    "buy_index1  = np.array(buy_index_runs[i])  \n",
    "#x5 = x5[5:]\n",
    "\n",
    "# create a new plot with figure\n",
    "p = figure(plot_width=1800, plot_height=920)\n",
    "\n",
    "# add both a line and circles on the same plot\n",
    "p.line(y4, x4, line_width=2,line_color=\"firebrick\")\n",
    "p.line(y2, x2, line_width=1 ,line_color=\"yellow\")\n",
    "#p.line(buy_index[: ,0],buy_index[: ,1], line_width=1 , line_color=\"red\")\n",
    "p.circle(sell_index1[: ,0],sell_index1[:,1], size=2, line_color=\"red\", fill_color=\"orange\", fill_alpha=0.5)\n",
    "p.circle(buy_index1[: ,0],buy_index1[: , 1], size=2, line_color=\"blue\", fill_color=\"blue\", fill_alpha=0.5)\n",
    "p.line(sell_index1[: ,0],sell_index1[:,1], line_width=1 ,line_color=\"red\")\n",
    "\n",
    "\n",
    "#p.line(y3, x3, line_width=2,line_color=\"orange\")\n",
    "\n",
    "#p.circle(y3,x3, size=10, line_color=\"navy\", fill_color=\"orange\", fill_alpha=0.5)\n",
    "\n",
    "#p.circle(x, z, fill_color=\"white\", size=8)\n",
    "\n",
    "show(p) # show the results"
   ]
  },
  {
   "cell_type": "code",
   "execution_count": null,
   "metadata": {},
   "outputs": [],
   "source": [
    "np.min(run_gain)"
   ]
  },
  {
   "cell_type": "code",
   "execution_count": null,
   "metadata": {},
   "outputs": [],
   "source": [
    "lo = 0\n",
    "for w in range(len(run_gain)):\n",
    "    if run_gain[w] > 1 :\n",
    "               lo +=1\n",
    "print(\"wining rate \" + str(lo / len(run_gain)))               "
   ]
  },
  {
   "cell_type": "code",
   "execution_count": null,
   "metadata": {},
   "outputs": [],
   "source": [
    "np.max(run_gain)"
   ]
  },
  {
   "cell_type": "code",
   "execution_count": null,
   "metadata": {},
   "outputs": [],
   "source": [
    "np.mean(run_gain)"
   ]
  },
  {
   "cell_type": "code",
   "execution_count": null,
   "metadata": {},
   "outputs": [],
   "source": [
    "1.3913110886277822*0.805"
   ]
  },
  {
   "cell_type": "code",
   "execution_count": null,
   "metadata": {},
   "outputs": [],
   "source": [
    "xx[500:(7*24*60+500)]"
   ]
  },
  {
   "cell_type": "code",
   "execution_count": null,
   "metadata": {},
   "outputs": [],
   "source": []
  },
  {
   "cell_type": "code",
   "execution_count": null,
   "metadata": {},
   "outputs": [],
   "source": [
    "xx = []\n",
    "for z in range(100):\n",
    "    for d in range(len(wining_steps_acc[z])):\n",
    "        xx.append((wining_steps_acc[z][d]-1))\n",
    "np.mean(xx)       "
   ]
  },
  {
   "cell_type": "code",
   "execution_count": null,
   "metadata": {},
   "outputs": [],
   "source": [
    "yy = []\n",
    "for z in range(100):\n",
    "    for d in range(len(losing_steps_acc[z])):\n",
    "        yy.append((1-losing_steps_acc[z][d]))\n",
    "np.mean(yy)      "
   ]
  },
  {
   "cell_type": "code",
   "execution_count": null,
   "metadata": {},
   "outputs": [],
   "source": [
    "xxx = []\n",
    "for z in range(100):\n",
    "    for d in range(len(wining_steps_acc[z])):\n",
    "        xxx.append((wining_steps_acc[z][d]-1))\n",
    "print(np.mean(xxx))        \n",
    "#xxx"
   ]
  },
  {
   "cell_type": "code",
   "execution_count": null,
   "metadata": {},
   "outputs": [],
   "source": [
    "yyy = []\n",
    "for z in range(100):\n",
    "    for d in range(len(losing_steps_acc[z])):\n",
    "        yyy.append((1-losing_steps_acc[z][d]))\n",
    "print(np.mean(yyy))        \n",
    "#yyy        "
   ]
  },
  {
   "cell_type": "code",
   "execution_count": null,
   "metadata": {},
   "outputs": [],
   "source": [
    "yy = []\n",
    "for z in range(100):\n",
    "    yy.append(len(losing_steps_acc[z])/len(price_runs[z]))\n",
    "print(np.mean(yy) )   \n",
    "#yy"
   ]
  },
  {
   "cell_type": "code",
   "execution_count": null,
   "metadata": {},
   "outputs": [],
   "source": [
    "xx = []\n",
    "for z in range(100):\n",
    "    xx.append(len(wining_steps_acc[z])/len(price_runs[z]))\n",
    "print(np.mean(xx ))\n",
    "#xx"
   ]
  },
  {
   "cell_type": "code",
   "execution_count": null,
   "metadata": {},
   "outputs": [],
   "source": [
    "dd = []\n",
    "for n in range(1000):\n",
    "    dd.append((((0.174930555556)*(1.00555179771207)**n))-(((5)*(1-0.00478633810263)**n)+(1-(0.174930555556+0.799375))))"
   ]
  },
  {
   "cell_type": "code",
   "execution_count": null,
   "metadata": {},
   "outputs": [],
   "source": [
    "dd"
   ]
  },
  {
   "cell_type": "code",
   "execution_count": null,
   "metadata": {},
   "outputs": [],
   "source": [
    "from bokeh.plotting import figure, output_file, show\n",
    "\n",
    "output_file(\"line.html\")\n",
    "\n",
    "p = figure(plot_width=1600, plot_height=800)\n",
    "\n",
    "# add a line renderer\n",
    "#p.line([)\n",
    "p.line( range(len(dd)), dd, line_width=2)\n",
    "\n",
    "\n",
    "show(p)\n"
   ]
  },
  {
   "cell_type": "code",
   "execution_count": null,
   "metadata": {},
   "outputs": [],
   "source": [
    "n =5\n",
    "(((0.174930555556)*(1.00555179771207)**n)+((0.199375)*(1-0.00478633810263)**n))"
   ]
  },
  {
   "cell_type": "code",
   "execution_count": null,
   "metadata": {},
   "outputs": [],
   "source": []
  },
  {
   "cell_type": "code",
   "execution_count": null,
   "metadata": {},
   "outputs": [],
   "source": [
    "np.mean(yy)"
   ]
  },
  {
   "cell_type": "code",
   "execution_count": null,
   "metadata": {},
   "outputs": [],
   "source": [
    "len(yy)/len(price_runs[3])"
   ]
  },
  {
   "cell_type": "code",
   "execution_count": null,
   "metadata": {},
   "outputs": [],
   "source": [
    "len(xx)/len(price_runs[3])"
   ]
  },
  {
   "cell_type": "code",
   "execution_count": null,
   "metadata": {},
   "outputs": [],
   "source": [
    "print(\"min \" + str(np.min(cash_per_run)) + \"  max \" + str(np.max(cash_per_run)) + \" mean \" + str(np.mean(cash_per_run)))\n",
    "x1 = np.array(step_per_run_num)\n",
    "print(\"av. win no. (\" +  str(np.mean(x1[:,0])) + \") , av. los no . (\" + str(np.mean(x1[:,1])) + \") , av nut no . (\" + str(np.mean(x1[:,2])) + ')')\n",
    "x2 = np.array(step_per_run_rtio)\n",
    "print(\"av. win ret. (\" +  str(np.mean(x2[:,0])) + \") , av. los ret . (\" + str(np.mean(x2[:,1])) + \") , av nut ret . (\" + str(np.mean(x2[:,2])) + ')')\n",
    "x3 = np.array(step_per_run_rate)\n",
    "print(\"av. win rate (\" +  str(np.mean(x3[:,0])) + \") , av. los rate (\" + str(np.mean(x3[:,1])) + \")\")\n"
   ]
  },
  {
   "cell_type": "code",
   "execution_count": null,
   "metadata": {},
   "outputs": [],
   "source": [
    "len(wining_steps_acc[0])"
   ]
  },
  {
   "cell_type": "code",
   "execution_count": null,
   "metadata": {},
   "outputs": [],
   "source": [
    "np.min(cash_per_run)"
   ]
  },
  {
   "cell_type": "code",
   "execution_count": null,
   "metadata": {},
   "outputs": [],
   "source": [
    "step_per_run_num"
   ]
  },
  {
   "cell_type": "code",
   "execution_count": null,
   "metadata": {},
   "outputs": [],
   "source": [
    " for zz in range (len ( total_cash_runs[0])):\n",
    "      gain = total_cash_runs[0][zz]/total_cash_runs[0][zz-1]\n",
    "      step_gain.append(gain)\n",
    "      if gain > 1: \n",
    "        wining_steps.append(gain)\n",
    "      elif gain < 1 :\n",
    "        losing_steps.append(gain)\n",
    "      else :\n",
    "        nutral_steps.append(gain)\n",
    "\n",
    "cash_per_run.append(total_cash[-1])\n",
    "step_per_run_num.append([len(wining_steps), len(losing_steps) ,len(nutral_steps)])\n",
    "step_per_run_rtio.append([len(wining_steps)/len(total_cash_runs[0]), len(losing_steps)/len(total_cash_runs[0]) ,len(nutral_steps)/len(total_cash_runs[0])])\n",
    "step_per_run_rate.append([100*(np.mean(wining_steps[:]) -1 ), 100*(1-np.mean(losing_steps[1:])) ])\n",
    "#print(total_cash[-1])"
   ]
  },
  {
   "cell_type": "code",
   "execution_count": null,
   "metadata": {},
   "outputs": [],
   "source": [
    "print(len(wining_steps))\n",
    "print(len(losing_steps))"
   ]
  },
  {
   "cell_type": "code",
   "execution_count": null,
   "metadata": {},
   "outputs": [],
   "source": [
    " total_cash_runs[0][-1]"
   ]
  },
  {
   "cell_type": "code",
   "execution_count": null,
   "metadata": {},
   "outputs": [],
   "source": [
    "total_cash_runs[0][-1]"
   ]
  },
  {
   "cell_type": "code",
   "execution_count": null,
   "metadata": {},
   "outputs": [],
   "source": [
    "cash_per_run"
   ]
  },
  {
   "cell_type": "code",
   "execution_count": null,
   "metadata": {},
   "outputs": [],
   "source": [
    "step_per_run_num"
   ]
  },
  {
   "cell_type": "code",
   "execution_count": null,
   "metadata": {},
   "outputs": [],
   "source": [
    "step_per_run_rtio"
   ]
  },
  {
   "cell_type": "code",
   "execution_count": null,
   "metadata": {},
   "outputs": [],
   "source": [
    "step_per_run_rate"
   ]
  },
  {
   "cell_type": "code",
   "execution_count": null,
   "metadata": {},
   "outputs": [],
   "source": [
    "for i in range(10):\n",
    "    print(len(price_runs[i]))\n",
    "\n",
    "\n",
    "\n",
    "\n"
   ]
  },
  {
   "cell_type": "code",
   "execution_count": null,
   "metadata": {},
   "outputs": [],
   "source": [
    "from bokeh.io import output_notebook, show\n",
    "from bokeh.plotting import figure\n",
    "i =30\n",
    "# set up some data\n",
    "#x1 = Traning_Output1[:,]\n",
    "x2 = price_runs[i]\n",
    "x3 = step_gain_runs[i]\n",
    "#x6 = testoutputM [1,:]\n",
    "#x3 = Traning_Output[1,:]\n",
    "x4 = total_cash_runs[i]\n",
    "#y1 = range(len(x1 ))\n",
    "y2 = range(0,(len(x2 )),1)\n",
    "y3 = range(0,len(x3 ),1)\n",
    "y4 = range(0,len(x4 ),1)\n",
    "#y5 = range(0,len(x6 ),1)\n",
    "#y6 = range(0,len(x6 ),1)\n",
    "sell_index1 = np.array(sell_index_runs[i])\n",
    "buy_index1  = np.array(buy_index_runs[i])  \n",
    "#x5 = x5[5:]\n",
    "\n",
    "# create a new plot with figure\n",
    "p = figure(plot_width=1800, plot_height=920)\n",
    "\n",
    "# add both a line and circles on the same plot\n",
    "p.line(y4, x4, line_width=2,line_color=\"firebrick\")\n",
    "p.line(y2, x2, line_width=1 ,line_color=\"yellow\")\n",
    "#p.line(buy_index[: ,0],buy_index[: ,1], line_width=1 , line_color=\"red\")\n",
    "p.circle(sell_index1[: ,0],sell_index1[:,1], size=2, line_color=\"red\", fill_color=\"orange\", fill_alpha=0.5)\n",
    "p.circle(buy_index1[: ,0],buy_index1[: , 1], size=2, line_color=\"blue\", fill_color=\"blue\", fill_alpha=0.5)\n",
    "p.line(sell_index1[: ,0],sell_index1[:,1], line_width=1 ,line_color=\"red\")\n",
    "\n",
    "\n",
    "#p.line(y3, x3, line_width=2,line_color=\"orange\")\n",
    "\n",
    "#p.circle(y3,x3, size=10, line_color=\"navy\", fill_color=\"orange\", fill_alpha=0.5)\n",
    "\n",
    "#p.circle(x, z, fill_color=\"white\", size=8)\n",
    "\n",
    "show(p) # show the results"
   ]
  },
  {
   "cell_type": "code",
   "execution_count": null,
   "metadata": {},
   "outputs": [],
   "source": [
    "step_gain = []\n",
    "wining_steps = []\n",
    "losing_steps = []\n",
    "nutral_steps = []\n",
    "i = 1\n",
    "for i in range (len ( total_cash)):\n",
    "  gain = total_cash[i]/total_cash[i-1]\n",
    "  step_gain.append(gain)\n",
    "  if gain > 1: \n",
    "    wining_steps.append(gain)\n",
    "  elif gain < 1 :\n",
    "    losing_steps.append(gain)\n",
    "  else :\n",
    "    nutral_steps.append(gain)\n",
    "\n",
    "cash_per_run.append(total_cash[-1])\n",
    "step_per_run_num.append([len(wining_steps), len(losing_steps) ,len(nutral_steps)])\n",
    "step_per_run_rtio.append([len(wining_steps)/len(total_cash), len(losing_steps)/len(total_cash) ,len(nutral_steps)/len(total_cash)])\n",
    "step_per_run_rate.append([100*(np.mean(wining_steps[:]) -1 ), 100*(1-np.mean(losing_steps[1:])) ])"
   ]
  },
  {
   "cell_type": "code",
   "execution_count": null,
   "metadata": {},
   "outputs": [],
   "source": []
  },
  {
   "cell_type": "code",
   "execution_count": null,
   "metadata": {},
   "outputs": [],
   "source": [
    "for d in range(len(ret))"
   ]
  },
  {
   "cell_type": "code",
   "execution_count": null,
   "metadata": {},
   "outputs": [],
   "source": [
    "np.mean(price[i-windw:i])"
   ]
  },
  {
   "cell_type": "code",
   "execution_count": null,
   "metadata": {},
   "outputs": [],
   "source": [
    "price[10]"
   ]
  },
  {
   "cell_type": "code",
   "execution_count": null,
   "metadata": {},
   "outputs": [],
   "source": [
    "sell_index1"
   ]
  },
  {
   "cell_type": "code",
   "execution_count": null,
   "metadata": {},
   "outputs": [],
   "source": []
  },
  {
   "cell_type": "code",
   "execution_count": null,
   "metadata": {},
   "outputs": [],
   "source": []
  },
  {
   "cell_type": "code",
   "execution_count": null,
   "metadata": {},
   "outputs": [],
   "source": [
    "from TradingEnv_OrderBook_State import *\n",
    "env = TradingEnv('../../MarketData/USDT-BTC_Market_Boot_support_Trading_Data.txt')\n",
    "env.set_cash(100)\n",
    "env.set_coin(float(100/env.Tick_Last[0]))\n",
    "\n",
    "\n",
    "\n",
    "def Try_selling() :\n",
    "    global sell_index\n",
    "    global buy_index\n",
    "    global price\n",
    "    global total_cash\n",
    "    global step_gain \n",
    "    global i\n",
    "    global coin\n",
    "    global cash\n",
    "    global history\n",
    "    #wi = (24*60)*1\n",
    "    #officet = np.random.randint(1 ,37900 -wi)\n",
    "    #price = env.Tick_Last\n",
    "    #-------------------------------------------#\n",
    "    windw        = 10\n",
    "    \n",
    "    safty_margen = 0.000000\n",
    "    fee          = 0.0025\n",
    "    sell_index   = []\n",
    "    buy_index    = []\n",
    "    #total_cash   = []\n",
    "    Trades_number = 0\n",
    "    env.new_episode()\n",
    "    i = 10\n",
    "    for i in range(len(price)):\n",
    "        \n",
    "        price_mean   = np.mean(price[i-windw:i])\n",
    "        price_min    = np.min(price[i-windw:i])\n",
    "        price_max    = np.max(price[i-windw:i])\n",
    "        upper_margen = float((price_max-price_mean)/price_mean)\n",
    "        lower_margen = float((price_min-price_mean)/price_mean)\n",
    "        #print(upper_margen,lower_margen,((float(np.array(price[i]))-price_mean)/price_mean) )\n",
    "\n",
    "        if float((float(np.array(price[i]))-price_mean)/price_mean) >= float(upper_margen+safty_margen) and coin != 0:\n",
    "            env.make_action(1)\n",
    "            cash = float(env.Cash[-1]) + float(env.Coin[-1]*env.EffictiveRate[-1]) #*(1-fee)\n",
    "            coin = env.Coin[-1]\n",
    "            history.append([cash , coin ])\n",
    "            sell_index.append([i , env.EffictiveRate[-1]])\n",
    "            #print('sell at ' + str(i))\n",
    "            Trades_number += 1\n",
    "        elif (float(np.array(price[i]))-price_mean)/price_mean <= (lower_margen-safty_margen) and cash != 0:  \n",
    "            env.make_action(-1)\n",
    "            coin = env.Coin[-1] + (env.Cash[-1]/env.EffictiveRate[-1]) #*(1-fee)\n",
    "            cash = env.Cash[-1]\n",
    "            history.append([cash , coin ])\n",
    "            sell_index.append([i , env.EffictiveRate[-1]])\n",
    "            #$print('buy at ' + str(i))\n",
    "            Trades_number += 1\n",
    "\n",
    "        else :\n",
    "           # history.append([cash , coin ])\n",
    "             env.make_action(5)\n",
    "        total_cash.append(cash + coin*env.EffictiveRate[-1])\n",
    "    sell_index = np.array(sell_index)\n",
    "    buy_index  = np.array(buy_index)   \n",
    "    #-----------------------------------------------------------#\n",
    "    #step_gain = []\n",
    "    wining_steps = []\n",
    "    losing_steps = []\n",
    "    nutral_steps = []\n",
    "    i = 1\n",
    "    for i in range (len ( total_cash)):\n",
    "      gain = total_cash[i]/total_cash[i-1]\n",
    "      step_gain.append(gain)\n",
    "      if gain > 1: \n",
    "        wining_steps.append(gain)\n",
    "      elif gain < 1 :\n",
    "        losing_steps.append(gain)\n",
    "      else :\n",
    "        nutral_steps.append(gain)\n",
    "\n",
    "    cash_per_run.append(total_cash[-1])\n",
    "    step_per_run_num.append([len(wining_steps), len(losing_steps) ,len(nutral_steps)])\n",
    "    step_per_run_rtio.append([len(wining_steps)/len(total_cash), len(losing_steps)/len(total_cash) ,len(nutral_steps)/len(total_cash)])\n",
    "    step_per_run_rate.append([100*(np.mean(wining_steps[:]) -1 ), 100*(1-np.mean(losing_steps[1:])) ])\n",
    "    #----------------------------------------------------------------------#\n",
    "\n",
    "    \n",
    "\n",
    "price = env.Tick_Last.tolist()\n",
    "total_cash = []\n",
    "step_gain  = []   \n",
    "i =0    \n",
    "cash_per_run       = []\n",
    "step_per_run_num   = []\n",
    "step_per_run_rtio  = []\n",
    "step_per_run_rate  = []\n",
    "history      = []\n",
    "\n",
    "cash         = env.Cash[0]\n",
    "coin         = env.Coin[0]\n",
    "#sell_index   = []\n",
    "#buy_index    = []\n",
    "#Try_selling()\n",
    "\n",
    "\n",
    "for i in range(10):\n",
    "    Try_selling() \n",
    "    print(i)\n"
   ]
  },
  {
   "cell_type": "code",
   "execution_count": null,
   "metadata": {},
   "outputs": [],
   "source": [
    "from bokeh.io import output_notebook, show\n",
    "from bokeh.plotting import figure\n",
    "\n",
    "# set up some data\n",
    "#x1 = Traning_Output1[:,]\n",
    "x2 = price[:]\n",
    "x3 = step_gain\n",
    "#x6 = testoutputM [1,:]\n",
    "#x3 = Traning_Output[1,:]\n",
    "x4 = total_cash\n",
    "#y1 = range(len(x1 ))\n",
    "y2 = range(0,(len(x2 )),1)\n",
    "y3 = range(0,len(x3 ),1)\n",
    "y4 = range(0,len(x4 ),1)\n",
    "#y5 = range(0,len(x6 ),1)\n",
    "#y6 = range(0,len(x6 ),1)\n",
    "sell_index1 = np.array(sell_index)\n",
    "buy_index1  = np.array(buy_index)  \n",
    "#x5 = x5[5:]\n",
    "\n",
    "# create a new plot with figure\n",
    "p = figure(plot_width=1850, plot_height=920)\n",
    "\n",
    "# add both a line and circles on the same plot\n",
    "#p.line(y4, x4, line_width=2,line_color=\"firebrick\")\n",
    "p.line(y2, x2, line_width=1 ,line_color=\"yellow\")\n",
    "#p.line(buy_index[: ,0],buy_index[: ,1], line_width=1 , line_color=\"red\")\n",
    "p.circle(sell_index1[: ,0],sell_index1[:,1], size=2, line_color=\"red\", fill_color=\"orange\", fill_alpha=0.5)\n",
    "p.circle(buy_index1[: ,0],buy_index1[: , 1], size=2, line_color=\"blue\", fill_color=\"blue\", fill_alpha=0.5)\n",
    "\n",
    "#p.line(y3, x3, line_width=2,line_color=\"orange\")\n",
    "\n",
    "#p.circle(y3,x3, size=10, line_color=\"navy\", fill_color=\"orange\", fill_alpha=0.5)\n",
    "\n",
    "#p.circle(x, z, fill_color=\"white\", size=8)\n",
    "\n",
    "show(p) # show the results"
   ]
  },
  {
   "cell_type": "code",
   "execution_count": null,
   "metadata": {},
   "outputs": [],
   "source": [
    "float((price_max-price_mean)/price_mean)"
   ]
  },
  {
   "cell_type": "code",
   "execution_count": null,
   "metadata": {},
   "outputs": [],
   "source": [
    "price_mean"
   ]
  },
  {
   "cell_type": "code",
   "execution_count": null,
   "metadata": {},
   "outputs": [],
   "source": [
    "i = 10\n",
    "np.min(price[i-windw:i])"
   ]
  },
  {
   "cell_type": "code",
   "execution_count": null,
   "metadata": {},
   "outputs": [],
   "source": []
  },
  {
   "cell_type": "code",
   "execution_count": null,
   "metadata": {},
   "outputs": [],
   "source": [
    "history"
   ]
  },
  {
   "cell_type": "code",
   "execution_count": null,
   "metadata": {},
   "outputs": [],
   "source": [
    "windw = 10\n",
    "price_mean   = float(np.mean(price[i:i+windw]))\n",
    "price_min    = float(np.min(price[i:i+windw]))\n",
    "price_max    = float(np.max(price[i:i+windw]))\n",
    "upper_margen = float((price_max-price_mean)/price_mean)\n",
    "lower_margen = float((price_min-price_mean)/price_mean)"
   ]
  },
  {
   "cell_type": "code",
   "execution_count": null,
   "metadata": {},
   "outputs": [],
   "source": [
    "float((float(np.array(price[i]))-price_mean)/price_mean) >= float(upper_margen+0) #and coin != 0"
   ]
  },
  {
   "cell_type": "code",
   "execution_count": null,
   "metadata": {},
   "outputs": [],
   "source": [
    "coin"
   ]
  },
  {
   "cell_type": "code",
   "execution_count": null,
   "metadata": {},
   "outputs": [],
   "source": [
    "type(env.Coin[0])"
   ]
  },
  {
   "cell_type": "code",
   "execution_count": null,
   "metadata": {},
   "outputs": [],
   "source": [
    "float(np.array(price[0]))"
   ]
  },
  {
   "cell_type": "code",
   "execution_count": null,
   "metadata": {},
   "outputs": [],
   "source": [
    "total_cash[-1]"
   ]
  },
  {
   "cell_type": "code",
   "execution_count": null,
   "metadata": {},
   "outputs": [],
   "source": [
    "sell_index"
   ]
  },
  {
   "cell_type": "code",
   "execution_count": null,
   "metadata": {},
   "outputs": [],
   "source": [
    " np.linspace(-1, 1, num=11)"
   ]
  },
  {
   "cell_type": "code",
   "execution_count": null,
   "metadata": {},
   "outputs": [],
   "source": [
    "   \n",
    "cash_per_run       = []\n",
    "step_per_run_num   = []\n",
    "step_per_run_rtio  = []\n",
    "step_per_run_rate  = []"
   ]
  },
  {
   "cell_type": "code",
   "execution_count": null,
   "metadata": {},
   "outputs": [],
   "source": [
    "step_per_run_rate"
   ]
  },
  {
   "cell_type": "code",
   "execution_count": null,
   "metadata": {},
   "outputs": [],
   "source": [
    "print(\"min \" + str(np.min(cash_per_run)) + \"  max \" + str(np.max(cash_per_run)) + \" mean \" + str(np.mean(cash_per_run)))\n",
    "x1 = np.array(step_per_run_num)\n",
    "print(\"av. win no. (\" +  str(np.mean(x1[:,0])) + \") , av. los no . (\" + str(np.mean(x1[:,1])) + \") , av nut no . (\" + str(np.mean(x1[:,2])) + ')')\n",
    "x2 = np.array(step_per_run_rtio)\n",
    "print(\"av. win ret. (\" +  str(np.mean(x2[:,0])) + \") , av. los ret . (\" + str(np.mean(x2[:,1])) + \") , av nut ret . (\" + str(np.mean(x2[:,2])) + ')')\n",
    "x3 = np.array(step_per_run_rate)\n",
    "print(\"av. win rate (\" +  str(np.mean(x3[:,0])) + \") , av. los rate (\" + str(np.mean(x3[:,1])) + \")\")\n"
   ]
  },
  {
   "cell_type": "code",
   "execution_count": null,
   "metadata": {},
   "outputs": [],
   "source": []
  },
  {
   "cell_type": "code",
   "execution_count": null,
   "metadata": {},
   "outputs": [],
   "source": [
    "x1 = np.array(step_per_run_num)\n",
    "print(\"av. win no. (\" +  str(np.mean(x1[:,0])) + \") , av. los no . (\" + str(np.mean(x1[:,1])) + \") , av nut no . (\" + str(np.mean(x1[:,2])) + ')')\n",
    "#print(x1)"
   ]
  },
  {
   "cell_type": "code",
   "execution_count": null,
   "metadata": {},
   "outputs": [],
   "source": [
    "x2 = np.array(step_per_run_rtio)\n",
    "print(\"av. win ret. (\" +  str(np.mean(x2[:,0])) + \") , av. los ret . (\" + str(np.mean(x2[:,1])) + \") , av nut ret . (\" + str(np.mean(x2[:,2])) + ')')\n"
   ]
  },
  {
   "cell_type": "code",
   "execution_count": null,
   "metadata": {},
   "outputs": [],
   "source": [
    "x3 = np.array(step_per_run_rate)\n",
    "print(\"av. win rate (\" +  str(np.mean(x3[:,0])) + \") , av. los rate (\" + str(np.mean(x3[:,1])) + \")\")\n"
   ]
  },
  {
   "cell_type": "code",
   "execution_count": null,
   "metadata": {},
   "outputs": [],
   "source": [
    "step_per_run_rtio"
   ]
  },
  {
   "cell_type": "code",
   "execution_count": null,
   "metadata": {},
   "outputs": [],
   "source": []
  },
  {
   "cell_type": "code",
   "execution_count": null,
   "metadata": {},
   "outputs": [],
   "source": [
    "print('w  ' + str(len(wining_steps))+ '  l  ' +str(len(losing_steps)) + '  n  '+ str(len(nutral_steps)))"
   ]
  },
  {
   "cell_type": "code",
   "execution_count": null,
   "metadata": {},
   "outputs": [],
   "source": [
    "print('w  ' + str(len(wining_steps)/len ( total_cash))+ '  l  ' +str(len(losing_steps)/len ( total_cash)) + '  n  '+ str(len(nutral_steps)/len ( total_cash)))"
   ]
  },
  {
   "cell_type": "code",
   "execution_count": null,
   "metadata": {},
   "outputs": [],
   "source": [
    "print(\"av. win \" + str(100*(np.mean(wining_steps[:]) -1 )) +' % '+ \"av. los \" +  str(100*(1-np.mean(losing_steps[1:]))) + ' % ')"
   ]
  },
  {
   "cell_type": "code",
   "execution_count": null,
   "metadata": {},
   "outputs": [],
   "source": [
    "(0.611315686503)*(1+0.611315686503/100)**200-(0.17671228994870922)*(1+0.611315686503/100)**200"
   ]
  },
  {
   "cell_type": "code",
   "execution_count": null,
   "metadata": {},
   "outputs": [],
   "source": [
    "total_cash[-1]"
   ]
  },
  {
   "cell_type": "code",
   "execution_count": null,
   "metadata": {},
   "outputs": [],
   "source": [
    "sell_index"
   ]
  },
  {
   "cell_type": "code",
   "execution_count": null,
   "metadata": {},
   "outputs": [],
   "source": [
    "history"
   ]
  },
  {
   "cell_type": "code",
   "execution_count": null,
   "metadata": {},
   "outputs": [],
   "source": [
    "nutral_steps"
   ]
  },
  {
   "cell_type": "code",
   "execution_count": null,
   "metadata": {},
   "outputs": [],
   "source": [
    "wining_steps"
   ]
  },
  {
   "cell_type": "code",
   "execution_count": null,
   "metadata": {},
   "outputs": [],
   "source": [
    "losing_steps"
   ]
  },
  {
   "cell_type": "code",
   "execution_count": null,
   "metadata": {},
   "outputs": [],
   "source": [
    "(np.mean(wining_steps[1:]) -1 )"
   ]
  },
  {
   "cell_type": "code",
   "execution_count": null,
   "metadata": {},
   "outputs": [],
   "source": [
    "print(\"av. win \" + str((np.mean(wining_steps[:]) -1 )*100) +' % '+ \"av. los \" +  str(100*(1-np.mean(losing_steps) )*100) + ' % ')"
   ]
  },
  {
   "cell_type": "code",
   "execution_count": null,
   "metadata": {},
   "outputs": [],
   "source": [
    "100*(1-np.mean(losing_steps) )"
   ]
  },
  {
   "cell_type": "code",
   "execution_count": null,
   "metadata": {},
   "outputs": [],
   "source": [
    "total_cash[-1]/Trades_number"
   ]
  },
  {
   "cell_type": "code",
   "execution_count": null,
   "metadata": {},
   "outputs": [],
   "source": [
    "total_cash[-1]"
   ]
  },
  {
   "cell_type": "code",
   "execution_count": null,
   "metadata": {},
   "outputs": [],
   "source": []
  },
  {
   "cell_type": "code",
   "execution_count": null,
   "metadata": {},
   "outputs": [],
   "source": [
    "Trades_number"
   ]
  },
  {
   "cell_type": "code",
   "execution_count": null,
   "metadata": {},
   "outputs": [],
   "source": [
    "len(sell_index)"
   ]
  },
  {
   "cell_type": "code",
   "execution_count": null,
   "metadata": {},
   "outputs": [],
   "source": [
    "len(buy_index)"
   ]
  },
  {
   "cell_type": "code",
   "execution_count": null,
   "metadata": {},
   "outputs": [],
   "source": [
    "gain = (cash + coin * price[len(price)-1])/200"
   ]
  },
  {
   "cell_type": "code",
   "execution_count": null,
   "metadata": {},
   "outputs": [],
   "source": [
    "gain"
   ]
  },
  {
   "cell_type": "code",
   "execution_count": null,
   "metadata": {},
   "outputs": [],
   "source": [
    "gain-100"
   ]
  },
  {
   "cell_type": "code",
   "execution_count": null,
   "metadata": {},
   "outputs": [],
   "source": [
    "coin"
   ]
  },
  {
   "cell_type": "code",
   "execution_count": null,
   "metadata": {},
   "outputs": [],
   "source": [
    "cash"
   ]
  },
  {
   "cell_type": "code",
   "execution_count": null,
   "metadata": {},
   "outputs": [],
   "source": [
    "(cash + coin * price[len(price)-1])"
   ]
  },
  {
   "cell_type": "code",
   "execution_count": null,
   "metadata": {},
   "outputs": [],
   "source": [
    "(cash + coin * price[0])"
   ]
  },
  {
   "cell_type": "code",
   "execution_count": null,
   "metadata": {},
   "outputs": [],
   "source": [
    "coin         = 100/price[0]\n"
   ]
  },
  {
   "cell_type": "code",
   "execution_count": null,
   "metadata": {},
   "outputs": [],
   "source": [
    "coin*price[0]"
   ]
  },
  {
   "cell_type": "code",
   "execution_count": null,
   "metadata": {},
   "outputs": [],
   "source": []
  },
  {
   "cell_type": "code",
   "execution_count": null,
   "metadata": {},
   "outputs": [],
   "source": []
  },
  {
   "cell_type": "code",
   "execution_count": null,
   "metadata": {},
   "outputs": [],
   "source": []
  },
  {
   "cell_type": "code",
   "execution_count": null,
   "metadata": {},
   "outputs": [],
   "source": [
    "int(buy_index[: ,0])"
   ]
  },
  {
   "cell_type": "code",
   "execution_count": null,
   "metadata": {},
   "outputs": [],
   "source": [
    "history"
   ]
  },
  {
   "cell_type": "code",
   "execution_count": null,
   "metadata": {},
   "outputs": [],
   "source": [
    "xxx = np.array(history)"
   ]
  },
  {
   "cell_type": "code",
   "execution_count": null,
   "metadata": {},
   "outputs": [],
   "source": [
    "xxx[0,:]"
   ]
  },
  {
   "cell_type": "code",
   "execution_count": null,
   "metadata": {},
   "outputs": [],
   "source": [
    "price_mean"
   ]
  },
  {
   "cell_type": "code",
   "execution_count": null,
   "metadata": {},
   "outputs": [],
   "source": [
    "price_max"
   ]
  },
  {
   "cell_type": "code",
   "execution_count": null,
   "metadata": {},
   "outputs": [],
   "source": [
    "price_min"
   ]
  },
  {
   "cell_type": "code",
   "execution_count": null,
   "metadata": {},
   "outputs": [],
   "source": []
  },
  {
   "cell_type": "code",
   "execution_count": null,
   "metadata": {},
   "outputs": [],
   "source": [
    "xy =df.TimeStamp.tolist()"
   ]
  },
  {
   "cell_type": "code",
   "execution_count": null,
   "metadata": {},
   "outputs": [],
   "source": [
    "xy[-500:]"
   ]
  },
  {
   "cell_type": "code",
   "execution_count": null,
   "metadata": {},
   "outputs": [],
   "source": [
    "from bokeh.plotting import figure, output_file, show\n",
    "\n",
    "output_file(\"line.html\")\n",
    "\n",
    "p = figure(plot_width=400, plot_height=400)\n",
    "\n",
    "# add a line renderer\n",
    "#p.line([)\n",
    "p.line(w[:,0].tolist() , w[:,1].tolist(), line_width=2)\n",
    "\n",
    "\n",
    "show(p)\n"
   ]
  },
  {
   "cell_type": "code",
   "execution_count": null,
   "metadata": {},
   "outputs": [],
   "source": []
  },
  {
   "cell_type": "code",
   "execution_count": null,
   "metadata": {},
   "outputs": [],
   "source": [
    "buy_index[: ,0],buy_index[0,:],"
   ]
  },
  {
   "cell_type": "code",
   "execution_count": null,
   "metadata": {},
   "outputs": [],
   "source": [
    "w = np.array([[1,4],[2,3],[3,15],[4,20],[5,8]])"
   ]
  },
  {
   "cell_type": "code",
   "execution_count": null,
   "metadata": {},
   "outputs": [],
   "source": [
    "w[:,0].tolist()"
   ]
  },
  {
   "cell_type": "code",
   "execution_count": null,
   "metadata": {},
   "outputs": [],
   "source": [
    "w[:,1].tolist()"
   ]
  },
  {
   "cell_type": "code",
   "execution_count": null,
   "metadata": {},
   "outputs": [],
   "source": [
    "w"
   ]
  },
  {
   "cell_type": "code",
   "execution_count": null,
   "metadata": {},
   "outputs": [],
   "source": [
    " = np.array(1.0, 2.0, 3.0, 4.0, 5.0], [6.0, 7.0, 2.0, 4.0, 5.0])"
   ]
  },
  {
   "cell_type": "code",
   "execution_count": null,
   "metadata": {},
   "outputs": [],
   "source": [
    "i =0\n",
    "np.mean(price[i:i+10])"
   ]
  },
  {
   "cell_type": "code",
   "execution_count": null,
   "metadata": {},
   "outputs": [],
   "source": [
    "total_cash"
   ]
  },
  {
   "cell_type": "code",
   "execution_count": null,
   "metadata": {},
   "outputs": [],
   "source": [
    "buy_index"
   ]
  },
  {
   "cell_type": "code",
   "execution_count": null,
   "metadata": {},
   "outputs": [],
   "source": [
    "i =10"
   ]
  },
  {
   "cell_type": "code",
   "execution_count": null,
   "metadata": {},
   "outputs": [],
   "source": [
    "Trade()"
   ]
  },
  {
   "cell_type": "code",
   "execution_count": null,
   "metadata": {},
   "outputs": [],
   "source": [
    "len(price)"
   ]
  },
  {
   "cell_type": "code",
   "execution_count": null,
   "metadata": {},
   "outputs": [],
   "source": [
    "price_min    = np.min(price[i:i+windw])"
   ]
  },
  {
   "cell_type": "code",
   "execution_count": null,
   "metadata": {},
   "outputs": [],
   "source": [
    "from pybittrex.client import Client\n",
    "c = Client(api_key='abc', api_secret='123')\n",
    "market = 'USDT-BTC'\n",
    "c.get_ticker(market).json()"
   ]
  },
  {
   "cell_type": "code",
   "execution_count": null,
   "metadata": {},
   "outputs": [],
   "source": []
  },
  {
   "cell_type": "code",
   "execution_count": null,
   "metadata": {},
   "outputs": [],
   "source": [
    "try :\n",
    "    x= c.get_ticker(market).json()\n",
    "except (KeyboardInterrupt, SystemExit):\n",
    "\n",
    "    pass\n",
    "x"
   ]
  },
  {
   "cell_type": "code",
   "execution_count": null,
   "metadata": {},
   "outputs": [],
   "source": [
    "x['result']['Last']"
   ]
  },
  {
   "cell_type": "code",
   "execution_count": null,
   "metadata": {},
   "outputs": [],
   "source": [
    "import ast\n",
    "import json\n",
    "import time\n",
    "from pybittrex.client import Client\n",
    "from multiprocessing import Pool\n",
    "from apscheduler.schedulers.blocking import BlockingScheduler\n",
    "import numpy as np\n",
    "import pandas as pd\n",
    "import time\n",
    "import matplotlib.pyplot as plt\n",
    "import seaborn as sns\n",
    "import random\n",
    "from bayes_opt import BayesianOptimization\n",
    "from concurrent import futures\n",
    "\n",
    "\n",
    "df = pd.read_csv('USDT-BTC.csv')\n",
    "df.head()\n",
    "xx = df.Close.tolist()\n",
    "sns.set()\n",
    "\n",
    "\n",
    "\n",
    "def Trade() :\n",
    "    print(\"trading \" + str(i))\n",
    "    global windw        \n",
    "    global cash         \n",
    "    global coin         \n",
    "    global safty_margen \n",
    "    global fee          \n",
    "    global history      \n",
    "    global sell_index   \n",
    "    global buy_index    \n",
    "    global total_cash   \n",
    "    global Trades_number  \n",
    "    global price\n",
    "    global i\n",
    "    #wi = (24*60)*1\n",
    "    #officet = np.random.randint(1 ,37900 -wi)\n",
    "    #price = xx[-7*24*60+officet:]\n",
    "    market_stat_data = (c.get_ticker(market).json())\n",
    "    price.append((c.get_ticker(market).json())['result']['Last'])\n",
    "    #-------------------------------------------#\n",
    "       \n",
    "    if len(price) > 10:\n",
    "        price_mean   = np.mean(price[i:i+windw])\n",
    "        price_min    = np.min(price[i:i+windw])\n",
    "        price_max    = np.max(price[i:i+windw])\n",
    "        upper_margen = (price_max-price_mean)/price_mean\n",
    "        lower_margen = (price_min-price_mean)/price_mean\n",
    "        print(upper_margen,lower_margen,((price[i]-price_mean)/price_mean) , ((price[i]-price_mean)/price_mean))\n",
    "\n",
    "        if (price[-1]-price_mean)/price_mean >= (upper_margen+safty_margen) and coin != 0:\n",
    "            cash = cash + coin*price[-1]*(1-fee)\n",
    "            coin = 0\n",
    "            history.append([cash , coin ])\n",
    "            sell_index.append([i , price[-1]])\n",
    "            print('sell at ' + str(i))\n",
    "            Trades_number += 1\n",
    "        elif (price[-1]-price_mean)/price_mean <= (lower_margen-safty_margen) and cash != 0:    \n",
    "            coin = coin + (cash/price[-1])*(1-fee)\n",
    "            cash = 0\n",
    "            history.append([cash , coin ])\n",
    "            buy_index.append([i , price[-1]])\n",
    "            print('buy at ' + str(i))\n",
    "            Trades_number += 1\n",
    "\n",
    "        else :\n",
    "           # history.append([cash , coin ])\n",
    "            print(\"No action\")\n",
    "            pass\n",
    "    total_cash.append(cash + coin*price[i])\n",
    "    print(\"total cash  \" + str(total_cash[-1]))\n",
    "        #sell_index = np.array(sell_index)\n",
    "        #buy_index  = np.array(buy_index)  \n",
    "    i += 1\n",
    "        #-----------------------------------------------------------#\n",
    "'''\n",
    "step_gain = []\n",
    "wining_steps = []\n",
    "losing_steps = []\n",
    "nutral_steps = []\n",
    "i = 1\n",
    "for i in range (len ( total_cash)):\n",
    "  gain = total_cash[i]/total_cash[i-1]\n",
    "  step_gain.append(gain)\n",
    "  if gain > 1: \n",
    "    wining_steps.append(gain)\n",
    "  elif gain < 1 :\n",
    "    losing_steps.append(gain)\n",
    "  else :\n",
    "    nutral_steps.append(gain)\n",
    "\n",
    "cash_per_run.append(total_cash[-1])\n",
    "step_per_run_num.append([len(wining_steps), len(losing_steps) ,len(nutral_steps)])\n",
    "step_per_run_rtio.append([len(wining_steps)/len(total_cash), len(losing_steps)/len(total_cash) ,len(nutral_steps)/len(total_cash)])\n",
    "step_per_run_rate.append([100*(np.mean(wining_steps[:]) -1 ), 100*(1-np.mean(losing_steps[1:])) ])\n",
    "'''\n",
    "    #----------------------------------------------------------------------#\n",
    "\n",
    "    \n",
    "windw        = 10\n",
    "cash         = 50\n",
    "coin         = 50/6609.0\n",
    "safty_margen = 0.000000\n",
    "fee          = 0.0025\n",
    "history      = []\n",
    "sell_index   = []\n",
    "buy_index    = []\n",
    "total_cash   = []\n",
    "Trades_number = 0    \n",
    "price         = [] \n",
    "i             = 0\n",
    "market = 'USDT-BTC'\n",
    "\n",
    "c = Client(api_key='abc', api_secret='123')\n",
    "\n",
    "\n",
    "        \n",
    "if __name__ == '__main__':\n",
    "    scheduler = BlockingScheduler()\n",
    "    scheduler.add_job(Trade, 'interval', seconds=60)\n",
    "\n",
    "try:\n",
    "    print(\"starting\")\n",
    "    scheduler.start()\n",
    "except (KeyboardInterrupt, SystemExit):\n",
    "        pass                       \n",
    "\n",
    " \n"
   ]
  },
  {
   "cell_type": "code",
   "execution_count": null,
   "metadata": {},
   "outputs": [],
   "source": [
    "import ast\n",
    "import json\n",
    "import time\n",
    "from pybittrex.client import Client\n",
    "from multiprocessing import Pool\n",
    "from apscheduler.schedulers.blocking import BlockingScheduler\n",
    "import numpy as np\n",
    "import pandas as pd\n",
    "import time\n",
    "import matplotlib.pyplot as plt\n",
    "import seaborn as sns\n",
    "import random\n",
    "from bayes_opt import BayesianOptimization\n",
    "from concurrent import futures\n",
    "\n",
    "\n",
    "def Trade() :\n",
    "    print(\"taking step action no.\" + str(i))\n",
    "    global windw        \n",
    "    global cash         \n",
    "    global coin         \n",
    "    global safty_margen \n",
    "    global fee          \n",
    "    global history      \n",
    "    global sell_index   \n",
    "    global buy_index    \n",
    "    global total_cash   \n",
    "    global Trades_number  \n",
    "    global price\n",
    "    global i\n",
    "    global Price_runs      \n",
    "    global sell_index_runs \n",
    "    global buy_index_runs  \n",
    "    global total_cash_runs \n",
    "    global step_gain_runs   \n",
    "    global step_gain   \n",
    "    global wining_steps \n",
    "    global losing_steps \n",
    "    global nutral_steps \n",
    "    global run_gain\n",
    "    #wi = (24*60)*1\n",
    "    #officet = np.random.randint(0 ,37900 -wi)\n",
    "    #price = close[officet:(wi+officet)]\n",
    "    #coin         = 50/price[0]\n",
    "    #cash  = 50\n",
    "    #history      = []\n",
    "    #sell_index   = []\n",
    "    #buy_index    = []\n",
    "    #total_cash   = []\n",
    "    try:\n",
    "        price.append((c.get_ticker(market).json())['result']['Last'])\n",
    "        \n",
    "    except (KeyboardInterrupt, SystemExit):\n",
    "        pass                       \n",
    "    print(\"got curent prices taking action\")\n",
    "    #-------------------------------------------#\n",
    "    #print(\"int cash \" + str(cash + coin*price[0]))\n",
    "    if i > 10 :\n",
    "        price_mean   = np.mean(price[i-windw:i])\n",
    "        price_min    = np.min(price[i-windw:i])\n",
    "        price_max    = np.max(price[i-windw:i])\n",
    "        upper_margen = (price_max-price_mean)/price_mean\n",
    "        lower_margen = (price_min-price_mean)/price_mean\n",
    "        #print(\"price  \" + str(price[i]) + \" at \"+ str(i))\n",
    "        #print(upper_margen,lower_margen,((price[i]-price_mean)/price_mean) )\n",
    "\n",
    "        if (price[i]-price_mean)/price_mean >= (upper_margen+safty_margen) and coin != 0 and ((price[i]-price_mean)/price_mean) > 2*fee  :\n",
    "            cash = cash + coin*price[i]*(1-fee)\n",
    "            coin = 0\n",
    "            history.append([cash , coin ])\n",
    "            sell_index.append([i , price[i]])\n",
    "            print('sell at ' + str(i))\n",
    "            Trades_number += 1\n",
    "        elif ((price[i]-price_mean)/price_mean) <= (lower_margen-safty_margen) and cash != 0  and  ((price[i]-price_mean)/price_mean) < -2*fee  :    \n",
    "            coin = coin + (cash/price[i])*(1-fee)\n",
    "            cash = 0\n",
    "            history.append([cash , coin ])\n",
    "            buy_index.append([i , price[i]])\n",
    "            print('buy at ' + str(i))\n",
    "            Trades_number += 1\n",
    "\n",
    "        else :\n",
    "           # history.append([cash , coin ]\n",
    "            print(\"No action\")\n",
    "            pass\n",
    "        total_cash.append(cash + coin*price[i])\n",
    "        print(\"total cash  \" +str(total_cash[-1]) + \" gain \" + str(total_cash[-1]/100))\n",
    "        print(\"    #-----------------------------------------------------------#\")\n",
    "\n",
    "    #sell_index = np.array(sell_index)\n",
    "    #buy_index  = np.array(buy_index)   \n",
    "    #-----------------------------------------------------------#\n",
    "    '''\n",
    "\n",
    "    step_gain = []\n",
    "    wining_steps = []\n",
    "    losing_steps = []\n",
    "    nutral_steps = []\n",
    "    for zz in range (len ( total_cash)):\n",
    "      gain = total_cash[zz]/total_cash[zz-1]\n",
    "      step_gain.append(gain)\n",
    "      if gain > 1: \n",
    "        wining_steps.append(gain)\n",
    "      elif gain < 1 :\n",
    "        losing_steps.append(gain)\n",
    "      else :\n",
    "        nutral_steps.append(gain)\n",
    "    wining_steps_acc.append(wining_steps)\n",
    "    losing_steps_acc.append(losing_steps)\n",
    "    cash_per_run.append(total_cash[-1])\n",
    "    step_per_run_num.append([len(wining_steps), len(losing_steps) ,len(nutral_steps)])\n",
    "    step_per_run_rtio.append([len(wining_steps)/len(total_cash), len(losing_steps)/len(total_cash) ,len(nutral_steps)/len(total_cash)])\n",
    "    step_per_run_rate.append([100*(np.mean(wining_steps[:]) -1 ), 100*(1-np.mean(losing_steps[1:])) ])\n",
    "    run_gain.append(total_cash[-1]/int_cash)\n",
    "    print(\"int cash \" + str(int_cash)+\" final cash \" + str(total_cash[-1]) + \" gain \" + str(run_gain[-1]))\n",
    "    '''\n",
    "\n",
    "    i += 1\n",
    "    #----------------------------------------------------------------------#\n",
    "market = 'USDT-BTC'\n",
    "\n",
    "c = Client(api_key='abc', api_secret='123')\n",
    "\n",
    "try:\n",
    "    init_price = (c.get_ticker(market).json())['result']['Last']\n",
    "        \n",
    "except (KeyboardInterrupt, SystemExit):\n",
    "        pass                       \n",
    "\n",
    "\n",
    "price = []#xx[:]   \n",
    "windw        = 10\n",
    "cash         = 50\n",
    "coin         = 50/init_price\n",
    "safty_margen = 0.000000\n",
    "fee          = 0.0025\n",
    "history      = []\n",
    "sell_index   = []\n",
    "buy_index    = []\n",
    "total_cash   = []\n",
    "Trades_number = 0    \n",
    "\n",
    "price_runs      = []\n",
    "sell_index_runs = []\n",
    "buy_index_runs  = []\n",
    "total_cash_runs = []\n",
    "step_gain_runs   = []\n",
    "    \n",
    "cash_per_run       = []\n",
    "step_per_run_num   = []\n",
    "step_per_run_rtio  = []\n",
    "step_per_run_rate  = []\n",
    "step_gain = []\n",
    "wining_steps = []\n",
    "losing_steps = []\n",
    "nutral_steps = []\n",
    "\n",
    "wining_steps_acc = []\n",
    "losing_steps_acc = []\n",
    "#Try_selling() \n",
    "ret= []\n",
    "run_gain = []\n",
    "i =0\n",
    "#int_cash  = cash + coin*price[0]\n",
    "\n",
    "'''\n",
    "\n",
    "for z in range(1000):\n",
    "    print(\"iteration no .\" + str(z)+\" -----------------------------------------------------------#\")\n",
    "\n",
    "    Try_selling() \n",
    "\n",
    "    price_runs.append(price)    \n",
    "    sell_index_runs.append(sell_index)\n",
    "    buy_index_runs.append(buy_index)\n",
    "    total_cash_runs.append(total_cash)\n",
    "    step_gain_runs.append(step_gain) \n",
    "    \n",
    "    ret.append(total_cash[-1])\n",
    "    #print(\"iteration \" + str(z) + ' total cash ' + str(total_cash[-1]))\n",
    "\n",
    "    \n",
    "with futures.ThreadPoolExecutor(max_workers=8) as ex:\n",
    "                #print('main: starting')\n",
    "                ex.submit(x )\n",
    "                ex.submit(x )\n",
    "                ex.submit(x )\n",
    "\n",
    "'''\n",
    " \n",
    "\n",
    "\n",
    "\n",
    "        \n",
    "if __name__ == '__main__':\n",
    "    scheduler = BlockingScheduler()\n",
    "    scheduler.add_job(Trade, 'interval', seconds=60)\n",
    "\n",
    "try:\n",
    "    print(\"starting\")\n",
    "    scheduler.start()\n",
    "except (KeyboardInterrupt, SystemExit):\n",
    "        pass                       \n",
    "\n",
    " \n",
    "                "
   ]
  },
  {
   "cell_type": "code",
   "execution_count": 1,
   "metadata": {},
   "outputs": [
    {
     "data": {
      "text/html": [
       "\n",
       "<style>\n",
       "    div#notebook-container    { width: 99%; }\n",
       "    div#menubar-container     { width: 65%; }\n",
       "    div#maintoolbar-container { width: 99%; }\n",
       "</style>\n"
      ],
      "text/plain": [
       "<IPython.core.display.HTML object>"
      ]
     },
     "metadata": {},
     "output_type": "display_data"
    }
   ],
   "source": [
    "from IPython.display import display, HTML\n",
    "\n",
    "display(HTML(data=\"\"\"\n",
    "<style>\n",
    "    div#notebook-container    { width: 99%; }\n",
    "    div#menubar-container     { width: 65%; }\n",
    "    div#maintoolbar-container { width: 99%; }\n",
    "</style>\n",
    "\"\"\"))"
   ]
  },
  {
   "cell_type": "code",
   "execution_count": null,
   "metadata": {},
   "outputs": [],
   "source": []
  }
 ],
 "metadata": {
  "kernelspec": {
   "display_name": "Python 3",
   "language": "python",
   "name": "python3"
  },
  "language_info": {
   "codemirror_mode": {
    "name": "ipython",
    "version": 3
   },
   "file_extension": ".py",
   "mimetype": "text/x-python",
   "name": "python",
   "nbconvert_exporter": "python",
   "pygments_lexer": "ipython3",
   "version": "3.5.2"
  }
 },
 "nbformat": 4,
 "nbformat_minor": 2
}
